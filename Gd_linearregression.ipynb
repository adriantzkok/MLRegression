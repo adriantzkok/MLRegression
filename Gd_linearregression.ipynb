{
 "cells": [
  {
   "cell_type": "markdown",
   "metadata": {},
   "source": [
    "# Imports"
   ]
  },
  {
   "cell_type": "code",
   "execution_count": 13,
   "metadata": {},
   "outputs": [],
   "source": [
    "import autograd.numpy as np\n",
    "from autograd import grad \n",
    "\n",
    "import matplotlib.pyplot as plt\n",
    "\n",
    "import pandas as pd"
   ]
  },
  {
   "cell_type": "markdown",
   "metadata": {},
   "source": [
    "# Data Generation"
   ]
  },
  {
   "cell_type": "code",
   "execution_count": 14,
   "metadata": {},
   "outputs": [],
   "source": [
    "import pandas as pd\n",
    "\n",
    "data = {'x': [1, 2, 2, 3], 'y': [1, 1, 2, 2]}\n",
    "df = pd.DataFrame(data)\n",
    "x_ = df['x'].to_numpy()\n",
    "y_ = df['y'].to_numpy()"
   ]
  },
  {
   "cell_type": "markdown",
   "metadata": {},
   "source": [
    "# Linear Regression"
   ]
  },
  {
   "cell_type": "markdown",
   "metadata": {},
   "source": [
    "$ f(x) = w^T \\phi(x_i) $"
   ]
  },
  {
   "cell_type": "markdown",
   "metadata": {},
   "source": [
    "Objective: $min_w \\frac{1}{n} \\sum_i^n(w^T \\phi(x_i) - y_i)^2$, $\\phi_1 = x$, $\\phi_2= 1$\n",
    "## 1. Pick the basis functions\n",
    "Here we use a linear regression 1st order feature map(collection of basis functions)"
   ]
  },
  {
   "cell_type": "code",
   "execution_count": 15,
   "metadata": {},
   "outputs": [],
   "source": [
    "def phi_1(x):\n",
    "    return x\n",
    "def phi_2(x):\n",
    "    return 1"
   ]
  },
  {
   "cell_type": "markdown",
   "metadata": {},
   "source": [
    "## 2. Calculate the feature map for each sample"
   ]
  },
  {
   "cell_type": "code",
   "execution_count": 16,
   "metadata": {},
   "outputs": [],
   "source": [
    "basis_1_results = phi_1(df['x'].to_numpy())\n",
    "basis_2_results = np.ones(len(basis_1_results))\n",
    "feature_map_results = np.column_stack((basis_1_results, basis_2_results))"
   ]
  },
  {
   "cell_type": "code",
   "execution_count": 17,
   "metadata": {},
   "outputs": [
    {
     "data": {
      "text/plain": [
       "(2,)"
      ]
     },
     "execution_count": 17,
     "metadata": {},
     "output_type": "execute_result"
    }
   ],
   "source": [
    "#E.G: The feature map for x_2\n",
    "feature_map_results[2].shape"
   ]
  },
  {
   "cell_type": "markdown",
   "metadata": {},
   "source": [
    "## 3. Calculate min of derivative"
   ]
  },
  {
   "cell_type": "markdown",
   "metadata": {},
   "source": [
    "$\\frac{{\\partial L(w)}}{{\\partial w}} = \\frac{2}{n} \\sum_{i=1}^{n} \\left(w^T \\phi(x_i) - y_i\\right) \\cdot \\phi(x_i)$"
   ]
  },
  {
   "cell_type": "markdown",
   "metadata": {},
   "source": [
    "# 4. Gradient Descent"
   ]
  },
  {
   "cell_type": "code",
   "execution_count": 18,
   "metadata": {},
   "outputs": [],
   "source": [
    "# Set variables\n",
    "w = np.random.uniform(0, 10, size=(2, 1))\n",
    "n = len(df['x'])\n",
    "lr = 0.01\n",
    "iter = 10000\n",
    "\n",
    "values = []"
   ]
  },
  {
   "cell_type": "code",
   "execution_count": 19,
   "metadata": {},
   "outputs": [
    {
     "name": "stdout",
     "output_type": "stream",
     "text": [
      "Initial w: [[9.73651204]\n",
      " [4.11484851]]\n",
      "End w: [[0.5]\n",
      " [0.5]]\n"
     ]
    }
   ],
   "source": [
    "print(f\"Initial w: {w}\")\n",
    "for it in range(iter):\n",
    "\n",
    "    # Derivative Calc\n",
    "    sum = 0\n",
    "    for i in range(feature_map_results.shape[0]):\n",
    "        sum += ( np.dot(w.T, feature_map_results[i].reshape((2,1))) - y_[i] ) * feature_map_results[i].reshape((2,1))\n",
    "    f_prime = 2 / n * sum\n",
    "\n",
    "    # Gradient Descent\n",
    "    w = w - lr * f_prime\n",
    "\n",
    "    # Function Value\n",
    "    values.append((it, np.sum(np.dot(w.T, feature_map_results.T))))\n",
    "\n",
    "print(f\"End w: {w}\")"
   ]
  },
  {
   "cell_type": "markdown",
   "metadata": {},
   "source": [
    "# Plotting GD"
   ]
  },
  {
   "cell_type": "code",
   "execution_count": 20,
   "metadata": {},
   "outputs": [
    {
     "data": {
      "image/png": "[encoded data removed]",
      "text/plain": [
       "<Figure size 640x480 with 1 Axes>"
      ]
     },
     "metadata": {},
     "output_type": "display_data"
    }
   ],
   "source": [
    "x, function = zip(*values)\n",
    "plt.scatter(x, function)\n",
    "plt.xlabel('iterations')\n",
    "plt.ylabel('loss')\n",
    "plt.title('Loss Function')\n",
    "plt.show()        \n"
   ]
  },
  {
   "cell_type": "markdown",
   "metadata": {},
   "source": []
  },
  {
   "cell_type": "code",
   "execution_count": null,
   "metadata": {},
   "outputs": [],
   "source": []
  },
  {
   "cell_type": "code",
   "execution_count": null,
   "metadata": {},
   "outputs": [],
   "source": []
  }
 ],
 "metadata": {
  "kernelspec": {
   "display_name": "Python 3",
   "language": "python",
   "name": "python3"
  },
  "language_info": {
   "codemirror_mode": {
    "name": "ipython",
    "version": 3
   },
   "file_extension": ".py",
   "mimetype": "text/x-python",
   "name": "python",
   "nbconvert_exporter": "python",
   "pygments_lexer": "ipython3",
   "version": "3.11.5"
  }
 },
 "nbformat": 4,
 "nbformat_minor": 2
}
